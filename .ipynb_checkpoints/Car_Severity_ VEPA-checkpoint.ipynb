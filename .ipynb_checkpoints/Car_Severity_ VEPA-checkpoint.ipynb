{
 "cells": [
  {
   "cell_type": "markdown",
   "metadata": {},
   "source": [
    "# __Car Accident Severity__"
   ]
  },
  {
   "cell_type": "markdown",
   "metadata": {},
   "source": [
    "### __Introduction__"
   ]
  },
  {
   "cell_type": "markdown",
   "metadata": {},
   "source": [
    "The present work of reporting, modeling and construction of a Machine Learning solution aims to demonstrate the relationship of environmental and situational variables in the severity of car accidents for the Settle area.\n",
    "\n",
    "In the first section, an exploratory analysis of the variables to be used will be carried out, emphasizing the distributions and the relationship between the explanatory variables and the category to be predicted.\n",
    "\n",
    "Second, we will talk about the methodology to be used in the development of the project. A classification model through trees is proposed and studied.\n",
    "\n",
    "Later, we will jointly study the results of the main evaluation measures, we will review the main postulates of the model and how we can use the solution in a production model.\n",
    "\n",
    "Finally, we will give a brief review of what was done during the entire Coursera course and its impact on the development of this Capstone deliverable."
   ]
  },
  {
   "cell_type": "markdown",
   "metadata": {},
   "source": [
    "### __Data Analisis__"
   ]
  },
  {
   "cell_type": "markdown",
   "metadata": {},
   "source": [
    "The modules to be used are the basic ones to implement a classification model. They are found within the Sklearn library, in addition to the now classic numpy and pandas.\n",
    "\n",
    "In view of the fact that on some occasions it is essential to be able to have a lightweight model that can be executed in any environment, the choice is to use the simplest versions of sklearn models. However, it is recommended to use other types of classifiers or algorithms. For example, those who are extremely famous in Kaggle competitions, such as LightGBM or XGBoost"
   ]
  },
  {
   "cell_type": "code",
   "execution_count": 20,
   "metadata": {},
   "outputs": [],
   "source": [
    "import warnings\n",
    "warnings.simplefilter(action='ignore')\n",
    "import numpy as np\n",
    "from sklearn.model_selection import train_test_split\n",
    "from sklearn.tree import DecisionTreeClassifier \n",
    "from sklearn import metrics\n",
    "import pandas as pd \n",
    "import matplotlib.pyplot as plt"
   ]
  },
  {
   "cell_type": "markdown",
   "metadata": {},
   "source": [
    "Due to space issues, all the preprocessing logic is saved, that is, the working method for identifying the most used variables. However, it can be said that both correlation mapping has been done to identify those much more related. In addition, a categorical modification has been implemented through the pandas get_dummies function. Expanding in this way the dataset and helping the algorithm to have a better approximation."
   ]
  },
  {
   "cell_type": "code",
   "execution_count": 23,
   "metadata": {},
   "outputs": [],
   "source": [
    "# Loading Data and validating NANS in it. \n",
    "# Si el número de datos NAN es mayor al 50 % entonces no es una columna valida. \n",
    "variables = [\n",
    "    \"SEVERITYCODE\", \"X\", \"Y\", \"ADDRTYPE\", \"HITPARKEDCAR\", \"COLLISIONTYPE\", \"PERSONCOUNT\", \"PEDCOUNT\",\n",
    "    \"PEDCYLCOUNT\", \"VEHCOUNT\", \"UNDERINFL\", \"WEATHER\", \"ROADCOND\", \"LIGHTCOND\", \"SPEEDING\", \"ST_COLCODE\"\n",
    "]\n",
    "data = pd.read_csv(\"datasets/Data-Collisions.csv\")[variables]\n",
    "\n",
    "data[\"SPEEDING\"] = data[\"SPEEDING\"].apply(lambda x: 1 if x == \"Y\" else 0 )\n",
    "valid_columns = []\n",
    "for i in data.columns: \n",
    "    if data[i].isna().sum()/len(data) >0.4: \n",
    "        pass\n",
    "    else: \n",
    "        valid_columns.append(i)\n",
    "        \n",
    "data = data[valid_columns]\n",
    "data.dropna(inplace = True)\n",
    "\n",
    "#Adding Dummies\n",
    "# Convert Categorical Variables: \n",
    "weather = pd.get_dummies(data.WEATHER)\n",
    "road_con = pd.get_dummies(data.ROADCOND)\n",
    "colicion_d  = pd.get_dummies(data.COLLISIONTYPE)\n",
    "light_d  = pd.get_dummies(data.LIGHTCOND)\n",
    "add_d  = pd.get_dummies(data.ADDRTYPE)\n",
    "\n",
    "\n",
    "data= pd.concat([data, weather], axis = 1)\n",
    "data= pd.concat([data, road_con], axis = 1)\n",
    "data= pd.concat([data, colicion_d], axis = 1)\n",
    "data= pd.concat([data, light_d], axis = 1)\n",
    "data= pd.concat([data, add_d], axis = 1)\n",
    "\n",
    "data[\"HITPARKEDCAR\"] = data[\"HITPARKEDCAR\"].apply(lambda x: 0 if x== \"N\" else 1)\n",
    "data[\"SEVERITYCODE\"] = data[\"SEVERITYCODE\"].apply(lambda x: 0 if x== 1 else 1)\n",
    "\n",
    "variable = []\n",
    "\n",
    "for i in data.UNDERINFL: \n",
    "    if i == \"N\": \n",
    "        variable.append(0)\n",
    "    if i == \"0\": \n",
    "        variable.append(0)\n",
    "    if i == \"1\": \n",
    "        variable.append(1)\n",
    "    if i == \"Y\": \n",
    "        variable.append(1)\n",
    "        \n",
    "data[\"UNDERINFL\"]= variable\n",
    "\n",
    "data.drop(columns = [\"WEATHER\", \"ROADCOND\", \"COLLISIONTYPE\", \"LIGHTCOND\", \"ADDRTYPE\"], inplace =True) "
   ]
  },
  {
   "cell_type": "code",
   "execution_count": 28,
   "metadata": {},
   "outputs": [
    {
     "data": {
      "text/plain": [
       "Index(['SEVERITYCODE', 'X', 'Y', 'HITPARKEDCAR', 'PERSONCOUNT', 'PEDCOUNT',\n",
       "       'PEDCYLCOUNT', 'VEHCOUNT', 'UNDERINFL', 'SPEEDING', 'ST_COLCODE',\n",
       "       'Blowing Sand/Dirt', 'Clear', 'Fog/Smog/Smoke', 'Other', 'Overcast',\n",
       "       'Partly Cloudy', 'Raining', 'Severe Crosswind',\n",
       "       'Sleet/Hail/Freezing Rain', 'Snowing', 'Unknown', 'Dry', 'Ice', 'Oil',\n",
       "       'Other', 'Sand/Mud/Dirt', 'Snow/Slush', 'Standing Water', 'Unknown',\n",
       "       'Wet', 'Angles', 'Cycles', 'Head On', 'Left Turn', 'Other',\n",
       "       'Parked Car', 'Pedestrian', 'Rear Ended', 'Right Turn', 'Sideswipe',\n",
       "       'Dark - No Street Lights', 'Dark - Street Lights Off',\n",
       "       'Dark - Street Lights On', 'Dark - Unknown Lighting', 'Dawn',\n",
       "       'Daylight', 'Dusk', 'Other', 'Unknown', 'Block', 'Intersection'],\n",
       "      dtype='object')"
      ]
     },
     "execution_count": 28,
     "metadata": {},
     "output_type": "execute_result"
    }
   ],
   "source": [
    "data.columns"
   ]
  },
  {
   "cell_type": "code",
   "execution_count": 36,
   "metadata": {},
   "outputs": [
    {
     "data": {
      "image/png": "[encoded data removed]",
      "text/plain": [
       "<Figure size 432x288 with 4 Axes>"
      ]
     },
     "metadata": {
      "needs_background": "light"
     },
     "output_type": "display_data"
    }
   ],
   "source": [
    "#\n",
    "fig, axs = plt.subplots(2, 2)\n",
    "\n",
    "axs[0, 0].hist(data.groupby(\"SEVERITYCODE\")[\"X\"].count())\n",
    "plt.title(\"Severity Code Distribution\")\n",
    "plt.show()"
   ]
  }
 ],
 "metadata": {
  "kernelspec": {
   "display_name": "Python 3",
   "language": "python",
   "name": "python3"
  },
  "language_info": {
   "codemirror_mode": {
    "name": "ipython",
    "version": 3
   },
   "file_extension": ".py",
   "mimetype": "text/x-python",
   "name": "python",
   "nbconvert_exporter": "python",
   "pygments_lexer": "ipython3",
   "version": "3.8.0"
  }
 },
 "nbformat": 4,
 "nbformat_minor": 4
}
